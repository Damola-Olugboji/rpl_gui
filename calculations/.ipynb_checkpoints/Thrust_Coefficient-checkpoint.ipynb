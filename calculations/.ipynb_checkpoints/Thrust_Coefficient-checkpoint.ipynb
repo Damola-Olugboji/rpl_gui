{
 "cells": [
  {
   "cell_type": "code",
   "execution_count": 3,
   "metadata": {},
   "outputs": [],
   "source": [
    "import pandas as pd\n",
    "import matplotlib.pyplot as plt\n",
    "import math\n"
   ]
  },
  {
   "cell_type": "code",
   "execution_count": 74,
   "metadata": {},
   "outputs": [
    {
     "name": "stdout",
     "output_type": "stream",
     "text": [
      "1.5889987044638598\n"
     ]
    }
   ],
   "source": [
    "#pr/0.1013 to get p3\n",
    "\n",
    "k = 1.214\n",
    "p3, p1 = 14.7,1000\n",
    "p3 = p3/145\n",
    "p1 = p1/145\n",
    "altitudes= [0,1000,3000,5000,10000,25000,50000,75000,100000,130000,160000]\n",
    "\n",
    "pr = p3/p1\n",
    "cf = math.sqrt(((2 * (k ** 2)) / (k - 1))\n",
    "                * ((2 / (k + 1)) ** ((k + 1) / (k - 1)))\n",
    "                * (1 - (pr) ** ((k - 1) / k)))\n",
    "print(cf)"
   ]
  },
  {
   "cell_type": "code",
   "execution_count": 40,
   "metadata": {},
   "outputs": [],
   "source": [
    "altitude ={\n",
    "    0: 1*0.1013,\n",
    "    1000: .88700 * 0.1013,\n",
    "    3000: 0.66919*0.1013,\n",
    "    5000: 0.53313*0.1013,\n",
    "    10000: 0.2651*0.1013,\n",
    "    25000: 0.025158*0.1013,\n",
    "    50000: 0.000787335*0.1013,\n",
    "    75000: 0.000020408*0.1013,\n",
    "    100000: 0.00000031593*0.1013\n",
    "}\n",
    "thrust_coefficient = []\n",
    "for items in altitude:\n",
    "    pr = altitude.get(items)/6.89476\n",
    "    cf = math.sqrt(((2 * (k ** 2)) / (k - 1))\n",
    "                * ((2 / (k + 1)) ** ((k + 1) / (k - 1)))\n",
    "                * (1 - (pr) ** ((k - 1) / k)))\n",
    "    thrust_coefficient.append(cf)\n",
    "    #print(cf)\n",
    "    #print(pr)\n"
   ]
  },
  {
   "cell_type": "code",
   "execution_count": 37,
   "metadata": {},
   "outputs": [
    {
     "data": {
      "image/png": "[encoded data removed]",
      "text/plain": [
       "<Figure size 432x288 with 1 Axes>"
      ]
     },
     "metadata": {
      "needs_background": "light"
     },
     "output_type": "display_data"
    }
   ],
   "source": [
    "plt.xlabel(\"Altitude (M)\")\n",
    "plt.ylabel(\"Thrust Coefficient\")\n",
    "#plt.axis([0,100000,1.2,2.5])\n",
    "plt.plot(list(altitude.keys()), thrust_coefficient)\n",
    "ktext = \"gamma: \" + str(k)\n",
    "ptext = \"p1: \" + str(p1)\n",
    "plt.figtext(.7, .2, ktext)\n",
    "plt.figtext(.7, .25, ptext)\n",
    "plt.show()"
   ]
  },
  {
   "cell_type": "code",
   "execution_count": 90,
   "metadata": {},
   "outputs": [
    {
     "name": "stdout",
     "output_type": "stream",
     "text": [
      "1.5889987044638592\n",
      "1.5889987044638592\n",
      "1.5889987044638592\n",
      "1.5889987044638592\n",
      "1.5889987044638592\n",
      "1.5889987044638592\n",
      "1.5889987044638592\n",
      "1.5889987044638592\n",
      "1.5889987044638592\n"
     ]
    }
   ],
   "source": [
    "coeff = []\n",
    "\"\"\"altitude ={\n",
    "    0: 1*0.1013,\n",
    "    1000: .88700 * 0.1013,\n",
    "    3000: 0.66919*0.1013,\n",
    "    5000: 0.53313*0.1013,\n",
    "    10000: 0.2651*0.1013,\n",
    "    25000: 0.025158*0.1013,\n",
    "    50000: 0.000787335*0.1013,\n",
    "    75000: 0.000020408*0.1013,\n",
    "    100000: 0.00000031593*0.1013\n",
    "}\"\"\"\n",
    "for items in altitude:\n",
    "    p1 = 1000\n",
    "    p3 = 14.7\n",
    "    t1 = 2608\n",
    "    F = 130\n",
    "    k = 1.214\n",
    "    R = 8.3145 / 0.02258464\n",
    "    Vt = V1 * (((k + 1) / 2) ** (1 / (k - 1)))\n",
    "    vt = math.sqrt(((2 * k) / (k + 1)) * (R * t1))\n",
    "    #At = (((mass_flow * Vt) / vt) * 10 ** 4) / 6.452\n",
    "    At = ((mass_flow * Vt) / vt) \n",
    "    V1 = (R * t1) / (p1 )\n",
    "    #V1 = (R * t1) / (p1)\n",
    "    mass_flow = F / v2\n",
    "    A2 = (((mass_flow * V2) / v2) * 10 ** 4) / 6.452\n",
    "    v2 = math.sqrt(\n",
    "                    (((2 * k) / (k - 1)) * (t1 * R))\n",
    "                    * (1 - (((p3 / 145) / (p1 / 145)) ** ((k - 1) / k)))\n",
    "                )\n",
    "    V2 = V1 * ((p1 / p3) ** (1 / k))\n",
    "    cf2 = ((v2**2)*A2)/(p1*At*V2)\n",
    "    print(cf2)"
   ]
  },
  {
   "cell_type": "code",
   "execution_count": 81,
   "metadata": {},
   "outputs": [
    {
     "name": "stdout",
     "output_type": "stream",
     "text": [
      "1 2\n"
     ]
    }
   ],
   "source": []
  }
 ],
 "metadata": {
  "kernelspec": {
   "display_name": "Python 3",
   "language": "python",
   "name": "python3"
  },
  "language_info": {
   "codemirror_mode": {
    "name": "ipython",
    "version": 3
   },
   "file_extension": ".py",
   "mimetype": "text/x-python",
   "name": "python",
   "nbconvert_exporter": "python",
   "pygments_lexer": "ipython3",
   "version": "3.7.2"
  }
 },
 "nbformat": 4,
 "nbformat_minor": 4
}
