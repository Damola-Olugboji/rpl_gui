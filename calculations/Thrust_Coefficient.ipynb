{
 "cells": [
  {
   "cell_type": "code",
   "execution_count": 3,
   "metadata": {},
   "outputs": [],
   "source": [
    "import pandas as pd\n",
    "import matplotlib.pyplot as plt\n",
    "import math\n"
   ]
  },
  {
   "cell_type": "code",
   "execution_count": 74,
   "metadata": {},
   "outputs": [
    {
     "name": "stdout",
     "output_type": "stream",
     "text": [
      "1.5889987044638598\n"
     ]
    }
   ],
   "source": [
    "#pr/0.1013 to get p3\n",
    "\n",
    "k = 1.214\n",
    "p3, p1 = 14.7,1000\n",
    "p3 = p3/145\n",
    "p1 = p1/145\n",
    "altitudes= [0,1000,3000,5000,10000,25000,50000,75000,100000,130000,160000]\n",
    "\n",
    "pr = p3/p1\n",
    "cf = math.sqrt(((2 * (k ** 2)) / (k - 1))\n",
    "                * ((2 / (k + 1)) ** ((k + 1) / (k - 1)))\n",
    "                * (1 - (pr) ** ((k - 1) / k)))\n",
    "print(cf)"
   ]
  },
  {
   "cell_type": "code",
   "execution_count": 95,
   "metadata": {},
   "outputs": [
    {
     "name": "stdout",
     "output_type": "stream",
     "text": [
      "1.5890650158152109\n",
      "1.6040435054953621\n",
      "1.6375121395118009\n",
      "1.6628648815376366\n",
      "1.7327101039275503\n",
      "1.9018573163238126\n",
      "2.0403658629784576\n",
      "2.11449522449503\n",
      "2.156016907408114\n"
     ]
    }
   ],
   "source": [
    "altitude ={\n",
    "    0: 1*0.1013,\n",
    "    1000: .88700 * 0.1013,\n",
    "    3000: 0.66919*0.1013,\n",
    "    5000: 0.53313*0.1013,\n",
    "    10000: 0.2651*0.1013,\n",
    "    25000: 0.025158*0.1013,\n",
    "    50000: 0.000787335*0.1013,\n",
    "    75000: 0.000020408*0.1013,\n",
    "    100000: 0.00000031593*0.1013\n",
    "}\n",
    "thrust_coefficient = []\n",
    "for items in altitude:\n",
    "    pr = altitude.get(items)/6.89476\n",
    "    cf = math.sqrt(((2 * (k ** 2)) / (k - 1))\n",
    "                * ((2 / (k + 1)) ** ((k + 1) / (k - 1)))\n",
    "                * (1 - (pr) ** ((k - 1) / k)))\n",
    "    thrust_coefficient.append(cf)\n",
    "    print(cf)\n",
    "    #print(pr)\n"
   ]
  },
  {
   "cell_type": "code",
   "execution_count": 37,
   "metadata": {},
   "outputs": [
    {
     "data": {
      "image/png": "[encoded data removed]",
      "text/plain": [
       "<Figure size 432x288 with 1 Axes>"
      ]
     },
     "metadata": {
      "needs_background": "light"
     },
     "output_type": "display_data"
    }
   ],
   "source": [
    "plt.xlabel(\"Altitude (M)\")\n",
    "plt.ylabel(\"Thrust Coefficient\")\n",
    "#plt.axis([0,100000,1.2,2.5])\n",
    "plt.plot(list(altitude.keys()), thrust_coefficient)\n",
    "ktext = \"gamma: \" + str(k)\n",
    "ptext = \"p1: \" + str(p1)\n",
    "plt.figtext(.7, .2, ktext)\n",
    "plt.figtext(.7, .25, ptext)\n",
    "plt.show()"
   ]
  },
  {
   "cell_type": "code",
   "execution_count": 106,
   "metadata": {},
   "outputs": [
    {
     "name": "stdout",
     "output_type": "stream",
     "text": [
      "97626.67061396586\n",
      "1.8257141650197628\n",
      "1.1841863596738533\n",
      "1.2317141778141414\n",
      "0.9423549598326135\n",
      "0.30084118624937123\n",
      "0.12494106579229129\n",
      "0.11122524060860858\n",
      "0.07766423369377108\n"
     ]
    }
   ],
   "source": [
    "coeff = []\n",
    "\"\"\"altitude ={\n",
    "    0: 1*0.1013,\n",
    "    1000: .88700 * 0.1013,\n",
    "    3000: 0.66919*0.1013,\n",
    "    5000: 0.53313*0.1013,\n",
    "    10000: 0.2651*0.1013,\n",
    "    25000: 0.025158*0.1013,\n",
    "    50000: 0.000787335*0.1013,\n",
    "    75000: 0.000020408*0.1013,\n",
    "    100000: 0.00000031593*0.1013\n",
    "}\"\"\"\n",
    "for items in altitude:\n",
    "    p1 = 2.0265\n",
    "    p3 = altitude.get(items)\n",
    "    t1 = 2608\n",
    "    F = 130\n",
    "    k = 1.3\n",
    "    R = 8.3145 / 0.02258464\n",
    "    Vt = V1 * (((k + 1) / 2) ** (1 / (k - 1)))\n",
    "    vt = math.sqrt(((2 * k) / (k + 1)) * (R * t1))\n",
    "    At = (((mass_flow * Vt) / vt) * 10 ** 4) / 6.452\n",
    "    #At = ((mass_flow * Vt) / vt) \n",
    "    V1 = (R * t1) / (p1 )\n",
    "    #V1 = (R * t1) / (p1)\n",
    "    mass_flow = F / v2\n",
    "    A2 = (((mass_flow * V2) / v2) * 10 ** 4) / 6.452\n",
    "    v2 = math.sqrt(\n",
    "                    (((2 * k) / (k - 1)) * (t1 * R))\n",
    "                    * (1 - (((p3 / 145) / (p1 / 145)) ** ((k - 1) / k)))\n",
    "                )\n",
    "    V2 = V1 * ((p1 / p3) ** (1 / k))\n",
    "    cf2 = ((v2**2)*A2)/(p1*At*V2)\n",
    "    print(cf2)\n",
    "    "
   ]
  },
  {
   "cell_type": "code",
   "execution_count": 94,
   "metadata": {},
   "outputs": [
    {
     "name": "stdout",
     "output_type": "stream",
     "text": [
      "243.71461457944756\n"
     ]
    }
   ],
   "source": [
    "Is = F/(mass_flow * 9.81)\n",
    "print(Is)"
   ]
  },
  {
   "cell_type": "code",
   "execution_count": 104,
   "metadata": {},
   "outputs": [
    {
     "name": "stdout",
     "output_type": "stream",
     "text": [
      "1.5497471343827005\n",
      "1.5625241126218525\n",
      "1.5908195900996103\n",
      "1.6120088928230916\n",
      "1.6691958360724373\n",
      "1.7988543510018462\n",
      "1.8917490222842954\n",
      "1.9334434564965917\n",
      "1.9526068014259454\n"
     ]
    },
    {
     "data": {
      "image/png": "[encoded data removed]",
      "text/plain": [
       "<Figure size 432x288 with 1 Axes>"
      ]
     },
     "metadata": {
      "needs_background": "light"
     },
     "output_type": "display_data"
    }
   ],
   "source": [
    "altitude ={\n",
    "    0: 1*0.1013,\n",
    "    1000: .88700 * 0.1013,\n",
    "    3000: 0.66919*0.1013,\n",
    "    5000: 0.53313*0.1013,\n",
    "    10000: 0.2651*0.1013,\n",
    "    25000: 0.025158*0.1013,\n",
    "    50000: 0.000787335*0.1013,\n",
    "    75000: 0.000020408*0.1013,\n",
    "    100000: 0.00000031593*0.1013\n",
    "}\n",
    "k = 1.3\n",
    "p1 = 2.0265\n",
    "p3 = 14.7/145\n",
    "thrust_coefficient = []\n",
    "for items in altitude:\n",
    "    pr = altitude.get(items)/6.89476\n",
    "    cf = math.sqrt(((2 * (k ** 2)) / (k - 1))\n",
    "                * ((2 / (k + 1)) ** ((k + 1) / (k - 1)))\n",
    "                * (1 - (pr) ** ((k - 1) / k)))\n",
    "    thrust_coefficient.append(cf)\n",
    "    print(cf)\n",
    "    #print(pr)\n",
    "plt.xlabel(\"Altitude (M)\")\n",
    "plt.ylabel(\"Thrust Coefficient\")\n",
    "plt.axis([0,60000,0,2.5])\n",
    "plt.plot(list(altitude.keys()), thrust_coefficient)\n",
    "ktext = \"gamma: \" + str(k)\n",
    "ptext = \"p1: \" + str(p1)\n",
    "plt.figtext(.7, .2, ktext)\n",
    "plt.figtext(.7, .25, ptext)\n",
    "plt.show()"
   ]
  }
 ],
 "metadata": {
  "kernelspec": {
   "display_name": "Python 3",
   "language": "python",
   "name": "python3"
  },
  "language_info": {
   "codemirror_mode": {
    "name": "ipython",
    "version": 3
   },
   "file_extension": ".py",
   "mimetype": "text/x-python",
   "name": "python",
   "nbconvert_exporter": "python",
   "pygments_lexer": "ipython3",
   "version": "3.7.2"
  }
 },
 "nbformat": 4,
 "nbformat_minor": 4
}
